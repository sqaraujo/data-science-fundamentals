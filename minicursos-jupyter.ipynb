{
 "cells": [
  {
   "cell_type": "markdown",
   "id": "60ea948b-7585-4456-a37e-63c31ae7fc3a",
   "metadata": {},
   "source": [
    "# 🚀 MiniCurso: Explorando o Jupyter Notebook para Ciência de Dados"
   ]
  },
  {
   "cell_type": "markdown",
   "id": "543510a2-87a7-48fb-8dc0-b92580a523bb",
   "metadata": {},
   "source": [
    "## 📘 1. Introdução ao Jupyter"
   ]
  },
  {
   "cell_type": "markdown",
   "id": "569f9239-e03e-4b14-b382-bb6536c0a3c6",
   "metadata": {},
   "source": [
    "### ✨ Bem-vindo ao MiniCurso de Jupyter Notebook!\n",
    "\n",
    "O **Jupyter Notebook** é uma ferramenta incrível que permite combinar:\n",
    "\n",
    "- Texto explicativo 📚\n",
    "- Código que funciona de verdade 🧠\n",
    "- Resultados e gráficos visuais 🎨\n",
    "\n",
    "Usado por cientistas de dados, analistas, estudantes e curiosos para aprender, testar e comunicar ideias.\n",
    "\n",
    "Vamos descobrir juntos como aproveitar tudo isso?"
   ]
  },
  {
   "cell_type": "markdown",
   "id": "345ede45-1bf2-4c06-b3d8-94307b93b157",
   "metadata": {},
   "source": [
    "## 📓 2. Criando Notebooks"
   ]
  },
  {
   "cell_type": "markdown",
   "id": "104dc9bd-075b-4b2a-be06-7907bb72c7b1",
   "metadata": {},
   "source": [
    "### 🔨 Como abrir o Jupyter Lab?\n",
    "\n",
    "- No terminal, digite:\n",
    "```bash\n",
    "jupyter lab\n",
    "``` \n",
    "- Crie um novo notebook clicando em `Python 3 (ipykernel)`\n",
    "- Salve com um nome, como `jupyter.ipynb`\n",
    "\n",
    "Agora você tem um caderno digital para programar e criar!"
   ]
  },
  {
   "cell_type": "markdown",
   "id": "16a053e1-fe17-41d5-8bb7-38aec49bdbc2",
   "metadata": {},
   "source": [
    "## ✍️ 3. Células de Texto (Markdown)\n",
    "Você pode escrever textos com títulos, listas, links e até emojis usando a linguagem Markdown. Para ativar uma célula como Markdown, selecione \"Markdown\" no menu suspenso ou pressione ```Esc``` + ```M```\n",
    "\n",
    "```markdown\n",
    "# Título grande (Nível 1)\n",
    "## Título médio (Nível 2)\n",
    "**Negrito**, *Itálico*, ~~Riscado~~\n",
    "\n",
    "- Lista com itens\n",
    "- Outro item\n",
    "\n",
    "👉 [Link para o site do Jupyter](https://jupyter.org)\n",
    "\n",
    "```\n",
    "\n",
    "Use `Esc` → `M` para transformar uma célula em texto (Markdown), e Shift + Enter para visualizar o formato."
   ]
  },
  {
   "cell_type": "markdown",
   "id": "afab89a9-c601-4c5e-8eaf-814b8c4478ac",
   "metadata": {},
   "source": [
    "## 🧮 4. Células de Código (Python)\n",
    "Células de código são onde você escreve instruções que o Python vai executar. Por exemplo:"
   ]
  },
  {
   "cell_type": "code",
   "execution_count": 4,
   "id": "69ede9e6-b05e-498d-b733-236bd3f94db4",
   "metadata": {},
   "outputs": [
    {
     "data": {
      "text/plain": [
       "4"
      ]
     },
     "execution_count": 4,
     "metadata": {},
     "output_type": "execute_result"
    }
   ],
   "source": [
    "#isso calcula e exibe a soma\n",
    "2 + 2"
   ]
  },
  {
   "cell_type": "markdown",
   "id": "52409651-545c-445f-8763-35eb2c24ba4f",
   "metadata": {},
   "source": [
    "📌 Pressione ```Shift``` + ```Enter```para executar a célula"
   ]
  },
  {
   "cell_type": "markdown",
   "id": "3a3505db-2d7a-435c-8435-f823f7d2b822",
   "metadata": {},
   "source": [
    "## 📊 5. Exibição de Gráficos\n",
    "Você pode usar bibliotecas como ```matplotlib``` para desenhar gráficos:"
   ]
  },
  {
   "cell_type": "code",
   "execution_count": 5,
   "id": "317d46b3-e74f-4ba8-8981-6da027609c91",
   "metadata": {},
   "outputs": [
    {
     "data": {
      "image/png": "[encoded data removed]",
      "text/plain": [
       "<Figure size 640x480 with 1 Axes>"
      ]
     },
     "metadata": {},
     "output_type": "display_data"
    }
   ],
   "source": [
    "import matplotlib.pyplot as plt\n",
    "\n",
    "x = [1, 2, 3, 4]\n",
    "y = [10, 20, 25, 30]\n",
    "\n",
    "plt.plot(x, y)\n",
    "plt.title(\"Meu primeiro gráfico\")\n",
    "plt.xlabel(\"Eixo X\")\n",
    "plt.ylabel(\"Eixo Y\")\n",
    "plt.show()"
   ]
  },
  {
   "cell_type": "markdown",
   "id": "91df449a-65ab-4f09-bfde-0ad05707e3e1",
   "metadata": {},
   "source": [
    "## 🖼️ 4. Visualização de Dados com Pandas\n",
    "O ```pandas``` é incrível para trabalhar com tabelas de dados:"
   ]
  },
  {
   "cell_type": "code",
   "execution_count": 6,
   "id": "0d95a0b7-e6eb-410c-9d7f-d864e39afae8",
   "metadata": {},
   "outputs": [
    {
     "data": {
      "text/html": [
       "<div>\n",
       "<style scoped>\n",
       "    .dataframe tbody tr th:only-of-type {\n",
       "        vertical-align: middle;\n",
       "    }\n",
       "\n",
       "    .dataframe tbody tr th {\n",
       "        vertical-align: top;\n",
       "    }\n",
       "\n",
       "    .dataframe thead th {\n",
       "        text-align: right;\n",
       "    }\n",
       "</style>\n",
       "<table border=\"1\" class=\"dataframe\">\n",
       "  <thead>\n",
       "    <tr style=\"text-align: right;\">\n",
       "      <th></th>\n",
       "      <th>Nome</th>\n",
       "      <th>Idade</th>\n",
       "    </tr>\n",
       "  </thead>\n",
       "  <tbody>\n",
       "    <tr>\n",
       "      <th>0</th>\n",
       "      <td>Ana</td>\n",
       "      <td>23</td>\n",
       "    </tr>\n",
       "    <tr>\n",
       "      <th>1</th>\n",
       "      <td>Bruno</td>\n",
       "      <td>31</td>\n",
       "    </tr>\n",
       "    <tr>\n",
       "      <th>2</th>\n",
       "      <td>Carlos</td>\n",
       "      <td>19</td>\n",
       "    </tr>\n",
       "  </tbody>\n",
       "</table>\n",
       "</div>"
      ],
      "text/plain": [
       "     Nome  Idade\n",
       "0     Ana     23\n",
       "1   Bruno     31\n",
       "2  Carlos     19"
      ]
     },
     "execution_count": 6,
     "metadata": {},
     "output_type": "execute_result"
    }
   ],
   "source": [
    "import pandas as pd\n",
    "\n",
    "dados = {\n",
    "    'Nome': ['Ana', 'Bruno', 'Carlos'],\n",
    "    'Idade': [23, 31, 19]\n",
    "}\n",
    "\n",
    "df = pd.DataFrame(dados)\n",
    "df\n"
   ]
  },
  {
   "cell_type": "markdown",
   "id": "a0c8cd12-4c37-4161-ad7f-664fd4f7b83a",
   "metadata": {},
   "source": [
    "## 📦 6. Usando comandos do sistema\n",
    "Você pode rodar comandos do terminal com `!`:"
   ]
  },
  {
   "cell_type": "code",
   "execution_count": 7,
   "id": "e70edaa4-a972-4487-9195-cdfa0ef584a1",
   "metadata": {},
   "outputs": [
    {
     "name": "stdout",
     "output_type": "stream",
     "text": [
      "Collecting seaborn\n",
      "  Downloading seaborn-0.13.2-py3-none-any.whl.metadata (5.4 kB)\n",
      "Requirement already satisfied: numpy!=1.24.0,>=1.20 in c:\\users\\maste\\miniconda3\\envs\\ds-fundamentals\\lib\\site-packages (from seaborn) (2.0.2)\n",
      "Requirement already satisfied: pandas>=1.2 in c:\\users\\maste\\miniconda3\\envs\\ds-fundamentals\\lib\\site-packages (from seaborn) (2.3.1)\n",
      "Requirement already satisfied: matplotlib!=3.6.1,>=3.4 in c:\\users\\maste\\miniconda3\\envs\\ds-fundamentals\\lib\\site-packages (from seaborn) (3.9.4)\n",
      "Requirement already satisfied: contourpy>=1.0.1 in c:\\users\\maste\\miniconda3\\envs\\ds-fundamentals\\lib\\site-packages (from matplotlib!=3.6.1,>=3.4->seaborn) (1.3.0)\n",
      "Requirement already satisfied: cycler>=0.10 in c:\\users\\maste\\miniconda3\\envs\\ds-fundamentals\\lib\\site-packages (from matplotlib!=3.6.1,>=3.4->seaborn) (0.12.1)\n",
      "Requirement already satisfied: fonttools>=4.22.0 in c:\\users\\maste\\miniconda3\\envs\\ds-fundamentals\\lib\\site-packages (from matplotlib!=3.6.1,>=3.4->seaborn) (4.58.5)\n",
      "Requirement already satisfied: kiwisolver>=1.3.1 in c:\\users\\maste\\miniconda3\\envs\\ds-fundamentals\\lib\\site-packages (from matplotlib!=3.6.1,>=3.4->seaborn) (1.4.7)\n",
      "Requirement already satisfied: packaging>=20.0 in c:\\users\\maste\\miniconda3\\envs\\ds-fundamentals\\lib\\site-packages (from matplotlib!=3.6.1,>=3.4->seaborn) (25.0)\n",
      "Requirement already satisfied: pillow>=8 in c:\\users\\maste\\miniconda3\\envs\\ds-fundamentals\\lib\\site-packages (from matplotlib!=3.6.1,>=3.4->seaborn) (11.3.0)\n",
      "Requirement already satisfied: pyparsing>=2.3.1 in c:\\users\\maste\\miniconda3\\envs\\ds-fundamentals\\lib\\site-packages (from matplotlib!=3.6.1,>=3.4->seaborn) (3.2.3)\n",
      "Requirement already satisfied: python-dateutil>=2.7 in c:\\users\\maste\\miniconda3\\envs\\ds-fundamentals\\lib\\site-packages (from matplotlib!=3.6.1,>=3.4->seaborn) (2.9.0.post0)\n",
      "Requirement already satisfied: importlib-resources>=3.2.0 in c:\\users\\maste\\miniconda3\\envs\\ds-fundamentals\\lib\\site-packages (from matplotlib!=3.6.1,>=3.4->seaborn) (6.5.2)\n",
      "Requirement already satisfied: zipp>=3.1.0 in c:\\users\\maste\\miniconda3\\envs\\ds-fundamentals\\lib\\site-packages (from importlib-resources>=3.2.0->matplotlib!=3.6.1,>=3.4->seaborn) (3.23.0)\n",
      "Requirement already satisfied: pytz>=2020.1 in c:\\users\\maste\\miniconda3\\envs\\ds-fundamentals\\lib\\site-packages (from pandas>=1.2->seaborn) (2025.2)\n",
      "Requirement already satisfied: tzdata>=2022.7 in c:\\users\\maste\\miniconda3\\envs\\ds-fundamentals\\lib\\site-packages (from pandas>=1.2->seaborn) (2025.2)\n",
      "Requirement already satisfied: six>=1.5 in c:\\users\\maste\\miniconda3\\envs\\ds-fundamentals\\lib\\site-packages (from python-dateutil>=2.7->matplotlib!=3.6.1,>=3.4->seaborn) (1.17.0)\n",
      "Downloading seaborn-0.13.2-py3-none-any.whl (294 kB)\n",
      "Installing collected packages: seaborn\n",
      "Successfully installed seaborn-0.13.2\n"
     ]
    }
   ],
   "source": [
    "!pip install seaborn"
   ]
  },
  {
   "cell_type": "markdown",
   "id": "03dbde73-7ec3-4e90-991f-e8105e499fc2",
   "metadata": {},
   "source": [
    "O ```!``` permite usar comandos do terminal dentro do notebook."
   ]
  },
  {
   "cell_type": "markdown",
   "id": "9e92df8a-31ea-4484-94e6-9a79a4d9eb69",
   "metadata": {},
   "source": [
    "## 🖐️ 7. Atalhos Úteis\n",
    "\n",
    "- ```Shift``` + ```Enter``` → Executa a célula atual e passa para a próxima\n",
    "- ```Esc``` → Sai do modo de edição\n",
    "- ```A``` → Adiciona nova célula acima\n",
    "- ```B``` → Adiciona nova célula abaixo\n",
    "- ```M``` → Transforma célula em texto (Markdown)\n",
    "- ```Y``` → Transforma célula em código"
   ]
  },
  {
   "cell_type": "markdown",
   "id": "e9528e14-f0bd-45d2-8318-b7f733a02d21",
   "metadata": {},
   "source": [
    "## 🧠 8. Dicas extras"
   ]
  },
  {
   "cell_type": "markdown",
   "id": "89a4ece1-08c3-4046-9d52-b24bdac1d579",
   "metadata": {},
   "source": [
    "### 🧩 Melhorando sua experiência\n",
    "\n",
    "- Use Markdown para criar tutoriais interativos\n",
    "- Combine gráficos, textos e dados para criar relatórios incríveis\n",
    "- Compartilhe o notebook direto no GitHub ou exporte como PDF\n",
    "\n",
    "Tudo sem sair do navegador!"
   ]
  },
  {
   "cell_type": "markdown",
   "id": "69efbe7e-b79d-471a-87fa-fb42100c952c",
   "metadata": {},
   "source": [
    "## 🏁 9. Encerramento"
   ]
  },
  {
   "cell_type": "markdown",
   "id": "10df4d85-d0fc-44c1-8d23-2950e4887d95",
   "metadata": {},
   "source": [
    "### 👏 Parabéns!\n",
    "\n",
    "Agora você entende:\n",
    "\n",
    "- Como funcionam os notebooks Jupyter\n",
    "- Como criar células de texto e código\n",
    "- Como visualizar dados e usar bibliotecas\n",
    "\n",
    "🧪 Esse é o primeiro passo para dominar a Ciência de Dados com estilo e clareza."
   ]
  }
 ],
 "metadata": {
  "kernelspec": {
   "display_name": "Python 3 (ipykernel)",
   "language": "python",
   "name": "python3"
  },
  "language_info": {
   "codemirror_mode": {
    "name": "ipython",
    "version": 3
   },
   "file_extension": ".py",
   "mimetype": "text/x-python",
   "name": "python",
   "nbconvert_exporter": "python",
   "pygments_lexer": "ipython3",
   "version": "3.9.23"
  }
 },
 "nbformat": 4,
 "nbformat_minor": 5
}
