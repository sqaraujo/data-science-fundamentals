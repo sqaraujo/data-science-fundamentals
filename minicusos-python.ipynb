{
 "cells": [
  {
   "cell_type": "markdown",
   "id": "53525ef5-2c3d-4a33-905c-ba2c0448b16f",
   "metadata": {},
   "source": [
    "# 🚀 MiniCurso: Fundamentos de Python para Ciência de Dados"
   ]
  },
  {
   "cell_type": "markdown",
   "id": "28880cc0-60e1-4175-be80-a7fa5556277e",
   "metadata": {},
   "source": [
    "## 1. Introdução"
   ]
  },
  {
   "cell_type": "markdown",
   "id": "669ded60-51e2-4fb6-97eb-fc6e229ce6dd",
   "metadata": {},
   "source": [
    "### 👋 Bem-vindo ao MiniCurso de Python para Ciência de Dados!\n",
    "\n",
    "Neste curso, você vai aprender:\n",
    "\n",
    "- Os conceitos básicos da linguagem Python\n",
    "- Como trabalhar com dados usando bibliotecas famosas\n",
    "- Como visualizar informações com gráficos lindos e claros\n",
    "\n",
    "📦 Bibliotecas que usaremos:\n",
    "- `numpy` para cálculos numéricos\n",
    "- `pandas` para análise de dados\n",
    "- `matplotlib` e `seaborn` para gráficos\n",
    "- `plotly` para gráficos interativos (opcional)\n",
    "\n",
    "Vamos começar? 😄"
   ]
  },
  {
   "cell_type": "markdown",
   "id": "38dbf8db-7c24-4395-a641-db92dc116c82",
   "metadata": {},
   "source": [
    "## 🐍 2. Primeiros Passos com Python"
   ]
  },
  {
   "cell_type": "markdown",
   "id": "5c3de03b-e41e-4dbe-8c3b-6239e9bdc47b",
   "metadata": {},
   "source": [
    "### 🔢 Operações básicas"
   ]
  },
  {
   "cell_type": "code",
   "execution_count": 1,
   "id": "93407dcf-dffa-4d27-8ce3-daa7c71b81ba",
   "metadata": {},
   "outputs": [
    {
     "name": "stdout",
     "output_type": "stream",
     "text": [
      "5\n",
      "3\n",
      "12\n",
      "4.0\n"
     ]
    }
   ],
   "source": [
    "# Soma, subtração, multiplicação e divisão\n",
    "print(2 + 3)\n",
    "print(5 - 2)\n",
    "print(4 * 3)\n",
    "print(8 / 2)"
   ]
  },
  {
   "cell_type": "markdown",
   "id": "5329485f-b6b8-4619-8fea-c14757b866da",
   "metadata": {},
   "source": [
    "### 🔤 Trabalhando com textos"
   ]
  },
  {
   "cell_type": "code",
   "execution_count": 2,
   "id": "06ff8eec-83c8-41c3-b3b5-790bd07621dc",
   "metadata": {},
   "outputs": [
    {
     "name": "stdout",
     "output_type": "stream",
     "text": [
      "Olá, Jefferson!\n"
     ]
    }
   ],
   "source": [
    "nome = \"Jefferson\"\n",
    "print(\"Olá, \" + nome + \"!\")"
   ]
  },
  {
   "cell_type": "markdown",
   "id": "18447055-e8b5-4072-8fe9-8a38053db9b5",
   "metadata": {},
   "source": [
    "## 🧠 3. Variáveis e Tipos de Dados"
   ]
  },
  {
   "cell_type": "markdown",
   "id": "4b0849b7-e4ef-465c-80ff-aef029c4ae82",
   "metadata": {},
   "source": [
    "### 🧪 Variáveis armazenam informações:"
   ]
  },
  {
   "cell_type": "code",
   "execution_count": 3,
   "id": "c1a4f7ca-6bb3-4a18-bccd-1df856e3961d",
   "metadata": {},
   "outputs": [
    {
     "name": "stdout",
     "output_type": "stream",
     "text": [
      "Idade: 30\n",
      "Altura: 1.75\n",
      "É estudante? True\n"
     ]
    }
   ],
   "source": [
    "idade = 30\n",
    "altura = 1.75\n",
    "estudante = True\n",
    "\n",
    "print(\"Idade:\", idade)\n",
    "print(\"Altura:\", altura)\n",
    "print(\"É estudante?\", estudante)"
   ]
  },
  {
   "cell_type": "markdown",
   "id": "f324edda-5819-4f19-ad5b-32c43ab043bb",
   "metadata": {},
   "source": [
    "## 🔄 4. Estruturas de Controle"
   ]
  },
  {
   "cell_type": "markdown",
   "id": "4787541f-4359-49d0-8932-748b169a5a80",
   "metadata": {},
   "source": [
    "### ⚙️ Condições"
   ]
  },
  {
   "cell_type": "code",
   "execution_count": 4,
   "id": "9fd801c4-c719-4f8b-89ba-6a067348fac6",
   "metadata": {},
   "outputs": [
    {
     "name": "stdout",
     "output_type": "stream",
     "text": [
      "Aprovado!\n"
     ]
    }
   ],
   "source": [
    "# Condicional\n",
    "nota = 8.5\n",
    "if nota >= 7:\n",
    "    print(\"Aprovado!\")\n",
    "else:\n",
    "    print(\"Reprovado!\")"
   ]
  },
  {
   "cell_type": "markdown",
   "id": "d4442140-49d4-499a-bd1e-7d44760c2d0d",
   "metadata": {},
   "source": [
    "### ⚙️ Repetições"
   ]
  },
  {
   "cell_type": "code",
   "execution_count": 5,
   "id": "9d0c5599-ada7-4ee5-8678-e44b005eda58",
   "metadata": {},
   "outputs": [
    {
     "name": "stdout",
     "output_type": "stream",
     "text": [
      "For Número 0\n",
      "For Número 1\n",
      "For Número 2\n",
      "For Número 3\n",
      "For Número 4\n"
     ]
    }
   ],
   "source": [
    "# Repetição For\n",
    "for i in range(5):\n",
    "    print(\"For Número\", i)"
   ]
  },
  {
   "cell_type": "code",
   "execution_count": 7,
   "id": "b1e4a55c-d34d-47c2-905d-33be89bff413",
   "metadata": {},
   "outputs": [
    {
     "name": "stdout",
     "output_type": "stream",
     "text": [
      "While Número 0\n",
      "While Número 1\n",
      "While Número 2\n",
      "While Número 3\n",
      "While Número 4\n"
     ]
    }
   ],
   "source": [
    "# Repetição While\n",
    "i = 0\n",
    "while i < 5:\n",
    "    print(\"While Número\", i)\n",
    "    i += 1"
   ]
  },
  {
   "cell_type": "markdown",
   "id": "c3142c9c-6a6d-473d-86ae-4ab064ffae00",
   "metadata": {},
   "source": [
    "## 📦 5. Introdução ao Numpy"
   ]
  },
  {
   "cell_type": "markdown",
   "id": "a45a0450-a8cf-423e-84b6-f1edcf53aa8b",
   "metadata": {},
   "source": [
    "### 💡 Numpy é usado para cálculos com arrays"
   ]
  },
  {
   "cell_type": "code",
   "execution_count": 9,
   "id": "6b5d4cab-2c01-4c4c-8e9c-dcaaa2fbf6fe",
   "metadata": {},
   "outputs": [
    {
     "name": "stdout",
     "output_type": "stream",
     "text": [
      "Média: 25.0\n",
      "Máximo: 40\n",
      "Mínimo: 10\n",
      "Soma: 100\n"
     ]
    }
   ],
   "source": [
    "import numpy as np\n",
    "\n",
    "numeros = np.array([10,20,30,40])\n",
    "print(\"Média:\", np.mean(numeros))\n",
    "print(\"Máximo:\", np.max(numeros))\n",
    "print(\"Mínimo:\", np.min(numeros))\n",
    "print(\"Soma:\", np.sum(numeros))"
   ]
  },
  {
   "cell_type": "markdown",
   "id": "2a795a52-b8ed-4723-9272-8a7a6be850eb",
   "metadata": {},
   "source": [
    "## 📊 6. Introdução ao Pandas"
   ]
  },
  {
   "cell_type": "markdown",
   "id": "ab0eff26-e8d8-4fdf-9b8d-aaabfdadd1d3",
   "metadata": {},
   "source": [
    "### 🗃️ Pandas permite manipular dados em tabelas"
   ]
  },
  {
   "cell_type": "code",
   "execution_count": 12,
   "id": "7556a13a-3a61-4eb7-8332-43aa05e73796",
   "metadata": {},
   "outputs": [
    {
     "data": {
      "text/html": [
       "<div>\n",
       "<style scoped>\n",
       "    .dataframe tbody tr th:only-of-type {\n",
       "        vertical-align: middle;\n",
       "    }\n",
       "\n",
       "    .dataframe tbody tr th {\n",
       "        vertical-align: top;\n",
       "    }\n",
       "\n",
       "    .dataframe thead th {\n",
       "        text-align: right;\n",
       "    }\n",
       "</style>\n",
       "<table border=\"1\" class=\"dataframe\">\n",
       "  <thead>\n",
       "    <tr style=\"text-align: right;\">\n",
       "      <th></th>\n",
       "      <th>Nome</th>\n",
       "      <th>Idade</th>\n",
       "      <th>Nota</th>\n",
       "    </tr>\n",
       "  </thead>\n",
       "  <tbody>\n",
       "    <tr>\n",
       "      <th>0</th>\n",
       "      <td>Ana</td>\n",
       "      <td>22</td>\n",
       "      <td>8.5</td>\n",
       "    </tr>\n",
       "    <tr>\n",
       "      <th>1</th>\n",
       "      <td>Bruno</td>\n",
       "      <td>34</td>\n",
       "      <td>7.0</td>\n",
       "    </tr>\n",
       "    <tr>\n",
       "      <th>2</th>\n",
       "      <td>Carlos</td>\n",
       "      <td>19</td>\n",
       "      <td>9.1</td>\n",
       "    </tr>\n",
       "  </tbody>\n",
       "</table>\n",
       "</div>"
      ],
      "text/plain": [
       "     Nome  Idade  Nota\n",
       "0     Ana     22   8.5\n",
       "1   Bruno     34   7.0\n",
       "2  Carlos     19   9.1"
      ]
     },
     "execution_count": 12,
     "metadata": {},
     "output_type": "execute_result"
    }
   ],
   "source": [
    "import pandas as pd\n",
    "\n",
    "dados = {\n",
    "    \"Nome\": [\"Ana\", \"Bruno\", \"Carlos\"],\n",
    "    \"Idade\": [22, 34, 19],\n",
    "    \"Nota\": [8.5, 7.0, 9.1]\n",
    "}\n",
    "\n",
    "df = pd.DataFrame(dados)\n",
    "df"
   ]
  },
  {
   "cell_type": "markdown",
   "id": "c4eec090-2c4f-4951-9713-cea42e17a0be",
   "metadata": {},
   "source": [
    "## 📈 7. Visualização com Matplotlib e Seaborn"
   ]
  },
  {
   "cell_type": "markdown",
   "id": "4c2bff22-aeba-49a2-aecc-de6dae6725e7",
   "metadata": {},
   "source": [
    "## 🎨 Visualizando dados com gráficos"
   ]
  },
  {
   "cell_type": "code",
   "execution_count": 13,
   "id": "6dcdd998-74c2-4760-80f1-932140f5b693",
   "metadata": {},
   "outputs": [
    {
     "data": {
      "image/png": "[encoded data removed]",
      "text/plain": [
       "<Figure size 640x480 with 1 Axes>"
      ]
     },
     "metadata": {},
     "output_type": "display_data"
    },
    {
     "data": {
      "image/png": "[encoded data removed]",
      "text/plain": [
       "<Figure size 640x480 with 1 Axes>"
      ]
     },
     "metadata": {},
     "output_type": "display_data"
    }
   ],
   "source": [
    "import matplotlib.pyplot as plt\n",
    "import seaborn as sns\n",
    "\n",
    "# Gráfico de barras\n",
    "plt.bar(df[\"Nome\"], df[\"Nota\"])\n",
    "plt.title(\"Notas por Nome\")\n",
    "plt.ylabel(\"Nota\")\n",
    "plt.show()\n",
    "\n",
    "# Gráfico usando seaborn\n",
    "sns.histplot(df[\"Idade\"], bins=5, kde=True)\n",
    "plt.title(\"Distribuição das Idades\")\n",
    "plt.show()"
   ]
  },
  {
   "cell_type": "markdown",
   "id": "b0811644-a087-4e94-ad4a-4851cbd0afde",
   "metadata": {},
   "source": [
    "## 🌐 8. Visualização Interativa com Plotly (Opcional)"
   ]
  },
  {
   "cell_type": "markdown",
   "id": "0a4983de-3681-4eb9-9f11-9197ae670d56",
   "metadata": {},
   "source": [
    "### ⚡ Plotly para gráficos interativos"
   ]
  },
  {
   "cell_type": "code",
   "execution_count": 17,
   "id": "a5c2c665-d331-47ad-a7c8-4ee014ff0975",
   "metadata": {},
   "outputs": [
    {
     "name": "stdout",
     "output_type": "stream",
     "text": [
      "Requirement already satisfied: plotly in c:\\users\\maste\\miniconda3\\envs\\ds-fundamentals\\lib\\site-packages (6.2.0)\n",
      "Requirement already satisfied: narwhals>=1.15.1 in c:\\users\\maste\\miniconda3\\envs\\ds-fundamentals\\lib\\site-packages (from plotly) (1.46.0)\n",
      "Requirement already satisfied: packaging in c:\\users\\maste\\miniconda3\\envs\\ds-fundamentals\\lib\\site-packages (from plotly) (25.0)\n"
     ]
    }
   ],
   "source": [
    "!pip install plotly"
   ]
  },
  {
   "cell_type": "code",
   "execution_count": 19,
   "id": "5d3c028f-102c-43c9-87ef-1b1dd586192d",
   "metadata": {},
   "outputs": [
    {
     "data": {
      "application/vnd.plotly.v1+json": {
       "config": {
        "plotlyServerURL": "https://plot.ly"
       },
       "data": [
        {
         "hovertemplate": "Nome=%{x}<br>Nota=%{y}<extra></extra>",
         "legendgroup": "",
         "marker": {
          "color": "#636efa",
          "pattern": {
           "shape": ""
          }
         },
         "name": "",
         "orientation": "v",
         "showlegend": false,
         "textposition": "auto",
         "type": "bar",
         "x": [
          "Ana",
          "Bruno",
          "Carlos"
         ],
         "xaxis": "x",
         "y": {
          "bdata": "AAAAAAAAIUAAAAAAAAAcQDMzMzMzMyJA",
          "dtype": "f8"
         },
         "yaxis": "y"
        }
       ],
       "layout": {
        "barmode": "relative",
        "legend": {
         "tracegroupgap": 0
        },
        "template": {
         "data": {
          "bar": [
           {
            "error_x": {
             "color": "#2a3f5f"
            },
            "error_y": {
             "color": "#2a3f5f"
            },
            "marker": {
             "line": {
              "color": "#E5ECF6",
              "width": 0.5
             },
             "pattern": {
              "fillmode": "overlay",
              "size": 10,
              "solidity": 0.2
             }
            },
            "type": "bar"
           }
          ],
          "barpolar": [
           {
            "marker": {
             "line": {
              "color": "#E5ECF6",
              "width": 0.5
             },
             "pattern": {
              "fillmode": "overlay",
              "size": 10,
              "solidity": 0.2
             }
            },
            "type": "barpolar"
           }
          ],
          "carpet": [
           {
            "aaxis": {
             "endlinecolor": "#2a3f5f",
             "gridcolor": "white",
             "linecolor": "white",
             "minorgridcolor": "white",
             "startlinecolor": "#2a3f5f"
            },
            "baxis": {
             "endlinecolor": "#2a3f5f",
             "gridcolor": "white",
             "linecolor": "white",
             "minorgridcolor": "white",
             "startlinecolor": "#2a3f5f"
            },
            "type": "carpet"
           }
          ],
          "choropleth": [
           {
            "colorbar": {
             "outlinewidth": 0,
             "ticks": ""
            },
            "type": "choropleth"
           }
          ],
          "contour": [
           {
            "colorbar": {
             "outlinewidth": 0,
             "ticks": ""
            },
            "colorscale": [
             [
              0,
              "#0d0887"
             ],
             [
              0.1111111111111111,
              "#46039f"
             ],
             [
              0.2222222222222222,
              "#7201a8"
             ],
             [
              0.3333333333333333,
              "#9c179e"
             ],
             [
              0.4444444444444444,
              "#bd3786"
             ],
             [
              0.5555555555555556,
              "#d8576b"
             ],
             [
              0.6666666666666666,
              "#ed7953"
             ],
             [
              0.7777777777777778,
              "#fb9f3a"
             ],
             [
              0.8888888888888888,
              "#fdca26"
             ],
             [
              1,
              "#f0f921"
             ]
            ],
            "type": "contour"
           }
          ],
          "contourcarpet": [
           {
            "colorbar": {
             "outlinewidth": 0,
             "ticks": ""
            },
            "type": "contourcarpet"
           }
          ],
          "heatmap": [
           {
            "colorbar": {
             "outlinewidth": 0,
             "ticks": ""
            },
            "colorscale": [
             [
              0,
              "#0d0887"
             ],
             [
              0.1111111111111111,
              "#46039f"
             ],
             [
              0.2222222222222222,
              "#7201a8"
             ],
             [
              0.3333333333333333,
              "#9c179e"
             ],
             [
              0.4444444444444444,
              "#bd3786"
             ],
             [
              0.5555555555555556,
              "#d8576b"
             ],
             [
              0.6666666666666666,
              "#ed7953"
             ],
             [
              0.7777777777777778,
              "#fb9f3a"
             ],
             [
              0.8888888888888888,
              "#fdca26"
             ],
             [
              1,
              "#f0f921"
             ]
            ],
            "type": "heatmap"
           }
          ],
          "histogram": [
           {
            "marker": {
             "pattern": {
              "fillmode": "overlay",
              "size": 10,
              "solidity": 0.2
             }
            },
            "type": "histogram"
           }
          ],
          "histogram2d": [
           {
            "colorbar": {
             "outlinewidth": 0,
             "ticks": ""
            },
            "colorscale": [
             [
              0,
              "#0d0887"
             ],
             [
              0.1111111111111111,
              "#46039f"
             ],
             [
              0.2222222222222222,
              "#7201a8"
             ],
             [
              0.3333333333333333,
              "#9c179e"
             ],
             [
              0.4444444444444444,
              "#bd3786"
             ],
             [
              0.5555555555555556,
              "#d8576b"
             ],
             [
              0.6666666666666666,
              "#ed7953"
             ],
             [
              0.7777777777777778,
              "#fb9f3a"
             ],
             [
              0.8888888888888888,
              "#fdca26"
             ],
             [
              1,
              "#f0f921"
             ]
            ],
            "type": "histogram2d"
           }
          ],
          "histogram2dcontour": [
           {
            "colorbar": {
             "outlinewidth": 0,
             "ticks": ""
            },
            "colorscale": [
             [
              0,
              "#0d0887"
             ],
             [
              0.1111111111111111,
              "#46039f"
             ],
             [
              0.2222222222222222,
              "#7201a8"
             ],
             [
              0.3333333333333333,
              "#9c179e"
             ],
             [
              0.4444444444444444,
              "#bd3786"
             ],
             [
              0.5555555555555556,
              "#d8576b"
             ],
             [
              0.6666666666666666,
              "#ed7953"
             ],
             [
              0.7777777777777778,
              "#fb9f3a"
             ],
             [
              0.8888888888888888,
              "#fdca26"
             ],
             [
              1,
              "#f0f921"
             ]
            ],
            "type": "histogram2dcontour"
           }
          ],
          "mesh3d": [
           {
            "colorbar": {
             "outlinewidth": 0,
             "ticks": ""
            },
            "type": "mesh3d"
           }
          ],
          "parcoords": [
           {
            "line": {
             "colorbar": {
              "outlinewidth": 0,
              "ticks": ""
             }
            },
            "type": "parcoords"
           }
          ],
          "pie": [
           {
            "automargin": true,
            "type": "pie"
           }
          ],
          "scatter": [
           {
            "fillpattern": {
             "fillmode": "overlay",
             "size": 10,
             "solidity": 0.2
            },
            "type": "scatter"
           }
          ],
          "scatter3d": [
           {
            "line": {
             "colorbar": {
              "outlinewidth": 0,
              "ticks": ""
             }
            },
            "marker": {
             "colorbar": {
              "outlinewidth": 0,
              "ticks": ""
             }
            },
            "type": "scatter3d"
           }
          ],
          "scattercarpet": [
           {
            "marker": {
             "colorbar": {
              "outlinewidth": 0,
              "ticks": ""
             }
            },
            "type": "scattercarpet"
           }
          ],
          "scattergeo": [
           {
            "marker": {
             "colorbar": {
              "outlinewidth": 0,
              "ticks": ""
             }
            },
            "type": "scattergeo"
           }
          ],
          "scattergl": [
           {
            "marker": {
             "colorbar": {
              "outlinewidth": 0,
              "ticks": ""
             }
            },
            "type": "scattergl"
           }
          ],
          "scattermap": [
           {
            "marker": {
             "colorbar": {
              "outlinewidth": 0,
              "ticks": ""
             }
            },
            "type": "scattermap"
           }
          ],
          "scattermapbox": [
           {
            "marker": {
             "colorbar": {
              "outlinewidth": 0,
              "ticks": ""
             }
            },
            "type": "scattermapbox"
           }
          ],
          "scatterpolar": [
           {
            "marker": {
             "colorbar": {
              "outlinewidth": 0,
              "ticks": ""
             }
            },
            "type": "scatterpolar"
           }
          ],
          "scatterpolargl": [
           {
            "marker": {
             "colorbar": {
              "outlinewidth": 0,
              "ticks": ""
             }
            },
            "type": "scatterpolargl"
           }
          ],
          "scatterternary": [
           {
            "marker": {
             "colorbar": {
              "outlinewidth": 0,
              "ticks": ""
             }
            },
            "type": "scatterternary"
           }
          ],
          "surface": [
           {
            "colorbar": {
             "outlinewidth": 0,
             "ticks": ""
            },
            "colorscale": [
             [
              0,
              "#0d0887"
             ],
             [
              0.1111111111111111,
              "#46039f"
             ],
             [
              0.2222222222222222,
              "#7201a8"
             ],
             [
              0.3333333333333333,
              "#9c179e"
             ],
             [
              0.4444444444444444,
              "#bd3786"
             ],
             [
              0.5555555555555556,
              "#d8576b"
             ],
             [
              0.6666666666666666,
              "#ed7953"
             ],
             [
              0.7777777777777778,
              "#fb9f3a"
             ],
             [
              0.8888888888888888,
              "#fdca26"
             ],
             [
              1,
              "#f0f921"
             ]
            ],
            "type": "surface"
           }
          ],
          "table": [
           {
            "cells": {
             "fill": {
              "color": "#EBF0F8"
             },
             "line": {
              "color": "white"
             }
            },
            "header": {
             "fill": {
              "color": "#C8D4E3"
             },
             "line": {
              "color": "white"
             }
            },
            "type": "table"
           }
          ]
         },
         "layout": {
          "annotationdefaults": {
           "arrowcolor": "#2a3f5f",
           "arrowhead": 0,
           "arrowwidth": 1
          },
          "autotypenumbers": "strict",
          "coloraxis": {
           "colorbar": {
            "outlinewidth": 0,
            "ticks": ""
           }
          },
          "colorscale": {
           "diverging": [
            [
             0,
             "#8e0152"
            ],
            [
             0.1,
             "#c51b7d"
            ],
            [
             0.2,
             "#de77ae"
            ],
            [
             0.3,
             "#f1b6da"
            ],
            [
             0.4,
             "#fde0ef"
            ],
            [
             0.5,
             "#f7f7f7"
            ],
            [
             0.6,
             "#e6f5d0"
            ],
            [
             0.7,
             "#b8e186"
            ],
            [
             0.8,
             "#7fbc41"
            ],
            [
             0.9,
             "#4d9221"
            ],
            [
             1,
             "#276419"
            ]
           ],
           "sequential": [
            [
             0,
             "#0d0887"
            ],
            [
             0.1111111111111111,
             "#46039f"
            ],
            [
             0.2222222222222222,
             "#7201a8"
            ],
            [
             0.3333333333333333,
             "#9c179e"
            ],
            [
             0.4444444444444444,
             "#bd3786"
            ],
            [
             0.5555555555555556,
             "#d8576b"
            ],
            [
             0.6666666666666666,
             "#ed7953"
            ],
            [
             0.7777777777777778,
             "#fb9f3a"
            ],
            [
             0.8888888888888888,
             "#fdca26"
            ],
            [
             1,
             "#f0f921"
            ]
           ],
           "sequentialminus": [
            [
             0,
             "#0d0887"
            ],
            [
             0.1111111111111111,
             "#46039f"
            ],
            [
             0.2222222222222222,
             "#7201a8"
            ],
            [
             0.3333333333333333,
             "#9c179e"
            ],
            [
             0.4444444444444444,
             "#bd3786"
            ],
            [
             0.5555555555555556,
             "#d8576b"
            ],
            [
             0.6666666666666666,
             "#ed7953"
            ],
            [
             0.7777777777777778,
             "#fb9f3a"
            ],
            [
             0.8888888888888888,
             "#fdca26"
            ],
            [
             1,
             "#f0f921"
            ]
           ]
          },
          "colorway": [
           "#636efa",
           "#EF553B",
           "#00cc96",
           "#ab63fa",
           "#FFA15A",
           "#19d3f3",
           "#FF6692",
           "#B6E880",
           "#FF97FF",
           "#FECB52"
          ],
          "font": {
           "color": "#2a3f5f"
          },
          "geo": {
           "bgcolor": "white",
           "lakecolor": "white",
           "landcolor": "#E5ECF6",
           "showlakes": true,
           "showland": true,
           "subunitcolor": "white"
          },
          "hoverlabel": {
           "align": "left"
          },
          "hovermode": "closest",
          "mapbox": {
           "style": "light"
          },
          "paper_bgcolor": "white",
          "plot_bgcolor": "#E5ECF6",
          "polar": {
           "angularaxis": {
            "gridcolor": "white",
            "linecolor": "white",
            "ticks": ""
           },
           "bgcolor": "#E5ECF6",
           "radialaxis": {
            "gridcolor": "white",
            "linecolor": "white",
            "ticks": ""
           }
          },
          "scene": {
           "xaxis": {
            "backgroundcolor": "#E5ECF6",
            "gridcolor": "white",
            "gridwidth": 2,
            "linecolor": "white",
            "showbackground": true,
            "ticks": "",
            "zerolinecolor": "white"
           },
           "yaxis": {
            "backgroundcolor": "#E5ECF6",
            "gridcolor": "white",
            "gridwidth": 2,
            "linecolor": "white",
            "showbackground": true,
            "ticks": "",
            "zerolinecolor": "white"
           },
           "zaxis": {
            "backgroundcolor": "#E5ECF6",
            "gridcolor": "white",
            "gridwidth": 2,
            "linecolor": "white",
            "showbackground": true,
            "ticks": "",
            "zerolinecolor": "white"
           }
          },
          "shapedefaults": {
           "line": {
            "color": "#2a3f5f"
           }
          },
          "ternary": {
           "aaxis": {
            "gridcolor": "white",
            "linecolor": "white",
            "ticks": ""
           },
           "baxis": {
            "gridcolor": "white",
            "linecolor": "white",
            "ticks": ""
           },
           "bgcolor": "#E5ECF6",
           "caxis": {
            "gridcolor": "white",
            "linecolor": "white",
            "ticks": ""
           }
          },
          "title": {
           "x": 0.05
          },
          "xaxis": {
           "automargin": true,
           "gridcolor": "white",
           "linecolor": "white",
           "ticks": "",
           "title": {
            "standoff": 15
           },
           "zerolinecolor": "white",
           "zerolinewidth": 2
          },
          "yaxis": {
           "automargin": true,
           "gridcolor": "white",
           "linecolor": "white",
           "ticks": "",
           "title": {
            "standoff": 15
           },
           "zerolinecolor": "white",
           "zerolinewidth": 2
          }
         }
        },
        "title": {
         "text": "Notas Iterativas"
        },
        "xaxis": {
         "anchor": "y",
         "domain": [
          0,
          1
         ],
         "title": {
          "text": "Nome"
         }
        },
        "yaxis": {
         "anchor": "x",
         "domain": [
          0,
          1
         ],
         "title": {
          "text": "Nota"
         }
        }
       }
      }
     },
     "metadata": {},
     "output_type": "display_data"
    }
   ],
   "source": [
    "import plotly.express as px\n",
    "fig = px.bar(df, x=\"Nome\", y=\"Nota\", title=\"Notas Iterativas\")\n",
    "fig.show()"
   ]
  },
  {
   "cell_type": "markdown",
   "id": "eb3532a2-e3b0-4f59-a434-ca4821b3849d",
   "metadata": {},
   "source": [
    "## 🏁 9. Encerramento e Próximos Passos"
   ]
  },
  {
   "cell_type": "markdown",
   "id": "fffd5600-ec59-424c-a1ce-35a5b7305d37",
   "metadata": {},
   "source": [
    "### 🧠 Parabéns!\n",
    "\n",
    "Você conheceu os fundamentos de Python voltados para a Ciência de Dados:\n",
    "- Como criar variáveis e usar estruturas básicas\n",
    "- Como analisar e visualizar dados\n",
    "- Ferramentas essenciais para profissionais da área\n",
    "\n",
    "💬 Que tal agora explorar projetos reais ou mergulhar em Machine Learning?"
   ]
  },
  {
   "cell_type": "code",
   "execution_count": null,
   "id": "0be648ae-343a-457e-b139-0465ad49e71b",
   "metadata": {},
   "outputs": [],
   "source": []
  }
 ],
 "metadata": {
  "kernelspec": {
   "display_name": "Python 3 (ipykernel)",
   "language": "python",
   "name": "python3"
  },
  "language_info": {
   "codemirror_mode": {
    "name": "ipython",
    "version": 3
   },
   "file_extension": ".py",
   "mimetype": "text/x-python",
   "name": "python",
   "nbconvert_exporter": "python",
   "pygments_lexer": "ipython3",
   "version": "3.9.23"
  }
 },
 "nbformat": 4,
 "nbformat_minor": 5
}
